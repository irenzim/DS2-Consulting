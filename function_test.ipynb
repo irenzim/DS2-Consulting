{
 "cells": [
  {
   "cell_type": "markdown",
   "metadata": {},
   "source": [
    "### Libraries import"
   ]
  },
  {
   "cell_type": "code",
   "execution_count": 15,
   "metadata": {},
   "outputs": [],
   "source": [
    "import pandas as pd \n",
    "import numpy as np \n",
    "import logging\n",
    "from functions.data_prep import DataPreparation\n",
    "from functions.prediction import PredictProductivityModel"
   ]
  },
  {
   "cell_type": "markdown",
   "metadata": {},
   "source": [
    "### Step 1: Data Cleaning & Transformations"
   ]
  },
  {
   "cell_type": "code",
   "execution_count": 16,
   "metadata": {},
   "outputs": [],
   "source": [
    "df = pd.read_csv('data/garments_worker_productivity.csv')"
   ]
  },
  {
   "cell_type": "code",
   "execution_count": 17,
   "metadata": {},
   "outputs": [
    {
     "name": "stdout",
     "output_type": "stream",
     "text": [
      "<class 'pandas.core.frame.DataFrame'>\n",
      "RangeIndex: 1197 entries, 0 to 1196\n",
      "Data columns (total 15 columns):\n",
      " #   Column                 Non-Null Count  Dtype  \n",
      "---  ------                 --------------  -----  \n",
      " 0   date                   1197 non-null   object \n",
      " 1   quarter                1197 non-null   object \n",
      " 2   department             1197 non-null   object \n",
      " 3   day                    1197 non-null   object \n",
      " 4   team                   1197 non-null   int64  \n",
      " 5   targeted_productivity  1197 non-null   float64\n",
      " 6   smv                    1197 non-null   float64\n",
      " 7   wip                    691 non-null    float64\n",
      " 8   over_time              1197 non-null   int64  \n",
      " 9   incentive              1197 non-null   int64  \n",
      " 10  idle_time              1197 non-null   float64\n",
      " 11  idle_men               1197 non-null   int64  \n",
      " 12  no_of_style_change     1197 non-null   int64  \n",
      " 13  no_of_workers          1197 non-null   float64\n",
      " 14  actual_productivity    1197 non-null   float64\n",
      "dtypes: float64(6), int64(5), object(4)\n",
      "memory usage: 140.4+ KB\n"
     ]
    }
   ],
   "source": [
    "df.info()"
   ]
  },
  {
   "cell_type": "code",
   "execution_count": 18,
   "metadata": {},
   "outputs": [],
   "source": [
    "df_prep = DataPreparation(df=df)\n"
   ]
  },
  {
   "cell_type": "code",
   "execution_count": 19,
   "metadata": {},
   "outputs": [
    {
     "data": {
      "text/plain": [
       "array(['wip'], dtype=object)"
      ]
     },
     "execution_count": 19,
     "metadata": {},
     "output_type": "execute_result"
    }
   ],
   "source": [
    "missing_cols = df_prep.check_missing_data()\n",
    "missing_cols.values"
   ]
  },
  {
   "cell_type": "code",
   "execution_count": 20,
   "metadata": {},
   "outputs": [
    {
     "data": {
      "text/plain": [
       "False"
      ]
     },
     "execution_count": 20,
     "metadata": {},
     "output_type": "execute_result"
    }
   ],
   "source": [
    "df_prep.check_missing_data().empty"
   ]
  },
  {
   "cell_type": "code",
   "execution_count": 21,
   "metadata": {},
   "outputs": [],
   "source": [
    "df_imputed = df_prep.impute_missing_data(missing_cols=missing_cols, impute_option='zero')"
   ]
  },
  {
   "cell_type": "code",
   "execution_count": 22,
   "metadata": {},
   "outputs": [],
   "source": [
    "df_transformed = df_prep.transform_data()"
   ]
  },
  {
   "cell_type": "code",
   "execution_count": 23,
   "metadata": {},
   "outputs": [
    {
     "name": "stdout",
     "output_type": "stream",
     "text": [
      "<class 'pandas.core.frame.DataFrame'>\n",
      "RangeIndex: 1197 entries, 0 to 1196\n",
      "Data columns (total 17 columns):\n",
      " #   Column                 Non-Null Count  Dtype         \n",
      "---  ------                 --------------  -----         \n",
      " 0   date                   1197 non-null   datetime64[ns]\n",
      " 1   quarter                1197 non-null   object        \n",
      " 2   department             1197 non-null   object        \n",
      " 3   day                    1197 non-null   int32         \n",
      " 4   team                   1197 non-null   int64         \n",
      " 5   targeted_productivity  1197 non-null   float64       \n",
      " 6   smv                    1197 non-null   float64       \n",
      " 7   wip                    1197 non-null   float64       \n",
      " 8   over_time              1197 non-null   int64         \n",
      " 9   incentive              1197 non-null   int64         \n",
      " 10  idle_time              1197 non-null   float64       \n",
      " 11  idle_men               1197 non-null   int64         \n",
      " 12  no_of_style_change     1197 non-null   int64         \n",
      " 13  no_of_workers          1197 non-null   float64       \n",
      " 14  actual_productivity    1197 non-null   float64       \n",
      " 15  month                  1197 non-null   int32         \n",
      " 16  num_week               1197 non-null   int64         \n",
      "dtypes: datetime64[ns](1), float64(6), int32(2), int64(6), object(2)\n",
      "memory usage: 149.8+ KB\n"
     ]
    }
   ],
   "source": [
    "df_transformed.info()"
   ]
  },
  {
   "cell_type": "markdown",
   "metadata": {},
   "source": [
    "### Step 2: Predicting Productivity with XgBoost"
   ]
  },
  {
   "cell_type": "markdown",
   "metadata": {},
   "source": [
    "Initializing an object of Predicting Model."
   ]
  },
  {
   "cell_type": "code",
   "execution_count": 24,
   "metadata": {},
   "outputs": [],
   "source": [
    "model = PredictProductivityModel()"
   ]
  },
  {
   "cell_type": "markdown",
   "metadata": {},
   "source": [
    "Creating lags for a few features. "
   ]
  },
  {
   "cell_type": "code",
   "execution_count": 25,
   "metadata": {},
   "outputs": [
    {
     "name": "stdout",
     "output_type": "stream",
     "text": [
      "<class 'pandas.core.frame.DataFrame'>\n",
      "Index: 1195 entries, 2 to 1196\n",
      "Data columns (total 23 columns):\n",
      " #   Column                       Non-Null Count  Dtype         \n",
      "---  ------                       --------------  -----         \n",
      " 0   date                         1195 non-null   datetime64[ns]\n",
      " 1   quarter                      1195 non-null   object        \n",
      " 2   department                   1195 non-null   object        \n",
      " 3   day                          1195 non-null   int32         \n",
      " 4   team                         1195 non-null   int64         \n",
      " 5   targeted_productivity        1195 non-null   float64       \n",
      " 6   smv                          1195 non-null   float64       \n",
      " 7   wip                          1195 non-null   float64       \n",
      " 8   over_time                    1195 non-null   int64         \n",
      " 9   incentive                    1195 non-null   int64         \n",
      " 10  idle_time                    1195 non-null   float64       \n",
      " 11  idle_men                     1195 non-null   int64         \n",
      " 12  no_of_style_change           1195 non-null   int64         \n",
      " 13  no_of_workers                1195 non-null   float64       \n",
      " 14  actual_productivity          1195 non-null   float64       \n",
      " 15  month                        1195 non-null   int32         \n",
      " 16  num_week                     1195 non-null   int64         \n",
      " 17  actual_productivity_lag_1    1195 non-null   float64       \n",
      " 18  actual_productivity_lag_2    1195 non-null   float64       \n",
      " 19  targeted_productivity_lag_1  1195 non-null   float64       \n",
      " 20  targeted_productivity_lag_2  1195 non-null   float64       \n",
      " 21  over_time_lag_1              1195 non-null   float64       \n",
      " 22  over_time_lag_2              1195 non-null   float64       \n",
      "dtypes: datetime64[ns](1), float64(12), int32(2), int64(6), object(2)\n",
      "memory usage: 214.7+ KB\n"
     ]
    }
   ],
   "source": [
    "model.create_lag_features(data=df_transformed, features = ['actual_productivity', 'targeted_productivity', 'over_time'], lags=2).info()"
   ]
  },
  {
   "cell_type": "code",
   "execution_count": 26,
   "metadata": {},
   "outputs": [],
   "source": [
    "model.fit(data=df_transformed, features = ['actual_productivity', 'targeted_productivity', 'over_time'], \n",
    "lags=2, \n",
    "target='actual_productivity', \n",
    "split_date='3/04/2015', \n",
    "date_column='date')"
   ]
  },
  {
   "cell_type": "markdown",
   "metadata": {},
   "source": [
    "Call `predict` method and it prepares the df with the column of predictions for test data period. "
   ]
  },
  {
   "cell_type": "code",
   "execution_count": 27,
   "metadata": {},
   "outputs": [
    {
     "data": {
      "text/html": [
       "<div>\n",
       "<style scoped>\n",
       "    .dataframe tbody tr th:only-of-type {\n",
       "        vertical-align: middle;\n",
       "    }\n",
       "\n",
       "    .dataframe tbody tr th {\n",
       "        vertical-align: top;\n",
       "    }\n",
       "\n",
       "    .dataframe thead th {\n",
       "        text-align: right;\n",
       "    }\n",
       "</style>\n",
       "<table border=\"1\" class=\"dataframe\">\n",
       "  <thead>\n",
       "    <tr style=\"text-align: right;\">\n",
       "      <th></th>\n",
       "      <th>date</th>\n",
       "      <th>quarter</th>\n",
       "      <th>department</th>\n",
       "      <th>day</th>\n",
       "      <th>team</th>\n",
       "      <th>targeted_productivity</th>\n",
       "      <th>smv</th>\n",
       "      <th>wip</th>\n",
       "      <th>over_time</th>\n",
       "      <th>incentive</th>\n",
       "      <th>idle_time</th>\n",
       "      <th>idle_men</th>\n",
       "      <th>no_of_style_change</th>\n",
       "      <th>no_of_workers</th>\n",
       "      <th>actual_productivity</th>\n",
       "      <th>month</th>\n",
       "      <th>num_week</th>\n",
       "      <th>predicted</th>\n",
       "    </tr>\n",
       "  </thead>\n",
       "  <tbody>\n",
       "    <tr>\n",
       "      <th>0</th>\n",
       "      <td>2015-01-01</td>\n",
       "      <td>Quarter1</td>\n",
       "      <td>sweing</td>\n",
       "      <td>1</td>\n",
       "      <td>8</td>\n",
       "      <td>0.80</td>\n",
       "      <td>26.16</td>\n",
       "      <td>1108.0</td>\n",
       "      <td>7080</td>\n",
       "      <td>98</td>\n",
       "      <td>0.0</td>\n",
       "      <td>0</td>\n",
       "      <td>0</td>\n",
       "      <td>59.0</td>\n",
       "      <td>0.940725</td>\n",
       "      <td>1</td>\n",
       "      <td>1</td>\n",
       "      <td>NaN</td>\n",
       "    </tr>\n",
       "    <tr>\n",
       "      <th>1</th>\n",
       "      <td>2015-01-01</td>\n",
       "      <td>Quarter1</td>\n",
       "      <td>finishing</td>\n",
       "      <td>1</td>\n",
       "      <td>1</td>\n",
       "      <td>0.75</td>\n",
       "      <td>3.94</td>\n",
       "      <td>0.0</td>\n",
       "      <td>960</td>\n",
       "      <td>0</td>\n",
       "      <td>0.0</td>\n",
       "      <td>0</td>\n",
       "      <td>0</td>\n",
       "      <td>8.0</td>\n",
       "      <td>0.886500</td>\n",
       "      <td>1</td>\n",
       "      <td>1</td>\n",
       "      <td>NaN</td>\n",
       "    </tr>\n",
       "    <tr>\n",
       "      <th>2</th>\n",
       "      <td>2015-01-01</td>\n",
       "      <td>Quarter1</td>\n",
       "      <td>sweing</td>\n",
       "      <td>1</td>\n",
       "      <td>11</td>\n",
       "      <td>0.80</td>\n",
       "      <td>11.41</td>\n",
       "      <td>968.0</td>\n",
       "      <td>3660</td>\n",
       "      <td>50</td>\n",
       "      <td>0.0</td>\n",
       "      <td>0</td>\n",
       "      <td>0</td>\n",
       "      <td>30.5</td>\n",
       "      <td>0.800570</td>\n",
       "      <td>1</td>\n",
       "      <td>1</td>\n",
       "      <td>NaN</td>\n",
       "    </tr>\n",
       "    <tr>\n",
       "      <th>3</th>\n",
       "      <td>2015-01-01</td>\n",
       "      <td>Quarter1</td>\n",
       "      <td>sweing</td>\n",
       "      <td>1</td>\n",
       "      <td>12</td>\n",
       "      <td>0.80</td>\n",
       "      <td>11.41</td>\n",
       "      <td>968.0</td>\n",
       "      <td>3660</td>\n",
       "      <td>50</td>\n",
       "      <td>0.0</td>\n",
       "      <td>0</td>\n",
       "      <td>0</td>\n",
       "      <td>30.5</td>\n",
       "      <td>0.800570</td>\n",
       "      <td>1</td>\n",
       "      <td>1</td>\n",
       "      <td>NaN</td>\n",
       "    </tr>\n",
       "    <tr>\n",
       "      <th>4</th>\n",
       "      <td>2015-01-01</td>\n",
       "      <td>Quarter1</td>\n",
       "      <td>sweing</td>\n",
       "      <td>1</td>\n",
       "      <td>6</td>\n",
       "      <td>0.80</td>\n",
       "      <td>25.90</td>\n",
       "      <td>1170.0</td>\n",
       "      <td>1920</td>\n",
       "      <td>50</td>\n",
       "      <td>0.0</td>\n",
       "      <td>0</td>\n",
       "      <td>0</td>\n",
       "      <td>56.0</td>\n",
       "      <td>0.800382</td>\n",
       "      <td>1</td>\n",
       "      <td>1</td>\n",
       "      <td>NaN</td>\n",
       "    </tr>\n",
       "    <tr>\n",
       "      <th>...</th>\n",
       "      <td>...</td>\n",
       "      <td>...</td>\n",
       "      <td>...</td>\n",
       "      <td>...</td>\n",
       "      <td>...</td>\n",
       "      <td>...</td>\n",
       "      <td>...</td>\n",
       "      <td>...</td>\n",
       "      <td>...</td>\n",
       "      <td>...</td>\n",
       "      <td>...</td>\n",
       "      <td>...</td>\n",
       "      <td>...</td>\n",
       "      <td>...</td>\n",
       "      <td>...</td>\n",
       "      <td>...</td>\n",
       "      <td>...</td>\n",
       "      <td>...</td>\n",
       "    </tr>\n",
       "    <tr>\n",
       "      <th>1192</th>\n",
       "      <td>2015-03-11</td>\n",
       "      <td>Quarter2</td>\n",
       "      <td>finishing</td>\n",
       "      <td>11</td>\n",
       "      <td>10</td>\n",
       "      <td>0.75</td>\n",
       "      <td>2.90</td>\n",
       "      <td>0.0</td>\n",
       "      <td>960</td>\n",
       "      <td>0</td>\n",
       "      <td>0.0</td>\n",
       "      <td>0</td>\n",
       "      <td>0</td>\n",
       "      <td>8.0</td>\n",
       "      <td>0.628333</td>\n",
       "      <td>3</td>\n",
       "      <td>11</td>\n",
       "      <td>0.579836</td>\n",
       "    </tr>\n",
       "    <tr>\n",
       "      <th>1193</th>\n",
       "      <td>2015-03-11</td>\n",
       "      <td>Quarter2</td>\n",
       "      <td>finishing</td>\n",
       "      <td>11</td>\n",
       "      <td>8</td>\n",
       "      <td>0.70</td>\n",
       "      <td>3.90</td>\n",
       "      <td>0.0</td>\n",
       "      <td>960</td>\n",
       "      <td>0</td>\n",
       "      <td>0.0</td>\n",
       "      <td>0</td>\n",
       "      <td>0</td>\n",
       "      <td>8.0</td>\n",
       "      <td>0.625625</td>\n",
       "      <td>3</td>\n",
       "      <td>11</td>\n",
       "      <td>0.617247</td>\n",
       "    </tr>\n",
       "    <tr>\n",
       "      <th>1194</th>\n",
       "      <td>2015-03-11</td>\n",
       "      <td>Quarter2</td>\n",
       "      <td>finishing</td>\n",
       "      <td>11</td>\n",
       "      <td>7</td>\n",
       "      <td>0.65</td>\n",
       "      <td>3.90</td>\n",
       "      <td>0.0</td>\n",
       "      <td>960</td>\n",
       "      <td>0</td>\n",
       "      <td>0.0</td>\n",
       "      <td>0</td>\n",
       "      <td>0</td>\n",
       "      <td>8.0</td>\n",
       "      <td>0.625625</td>\n",
       "      <td>3</td>\n",
       "      <td>11</td>\n",
       "      <td>0.658261</td>\n",
       "    </tr>\n",
       "    <tr>\n",
       "      <th>1195</th>\n",
       "      <td>2015-03-11</td>\n",
       "      <td>Quarter2</td>\n",
       "      <td>finishing</td>\n",
       "      <td>11</td>\n",
       "      <td>9</td>\n",
       "      <td>0.75</td>\n",
       "      <td>2.90</td>\n",
       "      <td>0.0</td>\n",
       "      <td>1800</td>\n",
       "      <td>0</td>\n",
       "      <td>0.0</td>\n",
       "      <td>0</td>\n",
       "      <td>0</td>\n",
       "      <td>15.0</td>\n",
       "      <td>0.505889</td>\n",
       "      <td>3</td>\n",
       "      <td>11</td>\n",
       "      <td>0.723004</td>\n",
       "    </tr>\n",
       "    <tr>\n",
       "      <th>1196</th>\n",
       "      <td>2015-03-11</td>\n",
       "      <td>Quarter2</td>\n",
       "      <td>finishing</td>\n",
       "      <td>11</td>\n",
       "      <td>6</td>\n",
       "      <td>0.70</td>\n",
       "      <td>2.90</td>\n",
       "      <td>0.0</td>\n",
       "      <td>720</td>\n",
       "      <td>0</td>\n",
       "      <td>0.0</td>\n",
       "      <td>0</td>\n",
       "      <td>0</td>\n",
       "      <td>6.0</td>\n",
       "      <td>0.394722</td>\n",
       "      <td>3</td>\n",
       "      <td>11</td>\n",
       "      <td>0.430101</td>\n",
       "    </tr>\n",
       "  </tbody>\n",
       "</table>\n",
       "<p>1197 rows × 18 columns</p>\n",
       "</div>"
      ],
      "text/plain": [
       "           date   quarter department  day  team  targeted_productivity    smv  \\\n",
       "0    2015-01-01  Quarter1     sweing    1     8                   0.80  26.16   \n",
       "1    2015-01-01  Quarter1  finishing    1     1                   0.75   3.94   \n",
       "2    2015-01-01  Quarter1     sweing    1    11                   0.80  11.41   \n",
       "3    2015-01-01  Quarter1     sweing    1    12                   0.80  11.41   \n",
       "4    2015-01-01  Quarter1     sweing    1     6                   0.80  25.90   \n",
       "...         ...       ...        ...  ...   ...                    ...    ...   \n",
       "1192 2015-03-11  Quarter2  finishing   11    10                   0.75   2.90   \n",
       "1193 2015-03-11  Quarter2  finishing   11     8                   0.70   3.90   \n",
       "1194 2015-03-11  Quarter2  finishing   11     7                   0.65   3.90   \n",
       "1195 2015-03-11  Quarter2  finishing   11     9                   0.75   2.90   \n",
       "1196 2015-03-11  Quarter2  finishing   11     6                   0.70   2.90   \n",
       "\n",
       "         wip  over_time  incentive  idle_time  idle_men  no_of_style_change  \\\n",
       "0     1108.0       7080         98        0.0         0                   0   \n",
       "1        0.0        960          0        0.0         0                   0   \n",
       "2      968.0       3660         50        0.0         0                   0   \n",
       "3      968.0       3660         50        0.0         0                   0   \n",
       "4     1170.0       1920         50        0.0         0                   0   \n",
       "...      ...        ...        ...        ...       ...                 ...   \n",
       "1192     0.0        960          0        0.0         0                   0   \n",
       "1193     0.0        960          0        0.0         0                   0   \n",
       "1194     0.0        960          0        0.0         0                   0   \n",
       "1195     0.0       1800          0        0.0         0                   0   \n",
       "1196     0.0        720          0        0.0         0                   0   \n",
       "\n",
       "      no_of_workers  actual_productivity  month  num_week  predicted  \n",
       "0              59.0             0.940725      1         1        NaN  \n",
       "1               8.0             0.886500      1         1        NaN  \n",
       "2              30.5             0.800570      1         1        NaN  \n",
       "3              30.5             0.800570      1         1        NaN  \n",
       "4              56.0             0.800382      1         1        NaN  \n",
       "...             ...                  ...    ...       ...        ...  \n",
       "1192            8.0             0.628333      3        11   0.579836  \n",
       "1193            8.0             0.625625      3        11   0.617247  \n",
       "1194            8.0             0.625625      3        11   0.658261  \n",
       "1195           15.0             0.505889      3        11   0.723004  \n",
       "1196            6.0             0.394722      3        11   0.430101  \n",
       "\n",
       "[1197 rows x 18 columns]"
      ]
     },
     "execution_count": 27,
     "metadata": {},
     "output_type": "execute_result"
    }
   ],
   "source": [
    "model.predict()"
   ]
  }
 ],
 "metadata": {
  "kernelspec": {
   "display_name": "Python 3",
   "language": "python",
   "name": "python3"
  },
  "language_info": {
   "codemirror_mode": {
    "name": "ipython",
    "version": 3
   },
   "file_extension": ".py",
   "mimetype": "text/x-python",
   "name": "python",
   "nbconvert_exporter": "python",
   "pygments_lexer": "ipython3",
   "version": "3.9.18"
  }
 },
 "nbformat": 4,
 "nbformat_minor": 2
}
